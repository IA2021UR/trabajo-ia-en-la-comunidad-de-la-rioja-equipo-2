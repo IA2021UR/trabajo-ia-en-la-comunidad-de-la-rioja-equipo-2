{
  "nbformat": 4,
  "nbformat_minor": 0,
  "metadata": {
    "colab": {
      "name": "Untitled1.ipynb",
      "provenance": [],
      "authorship_tag": "ABX9TyPDdLOfCQU4rfDlW2B1V0PN",
      "include_colab_link": true
    },
    "kernelspec": {
      "name": "python3",
      "display_name": "Python 3"
    },
    "language_info": {
      "name": "python"
    }
  },
  "cells": [
    {
      "cell_type": "markdown",
      "metadata": {
        "id": "view-in-github",
        "colab_type": "text"
      },
      "source": [
        "<a href=\"https://colab.research.google.com/github/IA2021UR/trabajo-ia-en-la-comunidad-de-la-rioja-equipo-2/blob/main/pdf_png.ipynb\" target=\"_parent\"><img src=\"https://colab.research.google.com/assets/colab-badge.svg\" alt=\"Open In Colab\"/></a>"
      ]
    },
    {
      "cell_type": "code",
      "metadata": {
        "colab": {
          "base_uri": "https://localhost:8080/"
        },
        "id": "ZULdgvxdzQd9",
        "outputId": "60c96a7e-e5ab-41e1-bae4-39653cc104a4"
      },
      "source": [
        "!pip install pymupdf"
      ],
      "execution_count": 3,
      "outputs": [
        {
          "output_type": "stream",
          "text": [
            "Collecting pymupdf\n",
            "\u001b[?25l  Downloading https://files.pythonhosted.org/packages/bf/e8/bfd971ed4515fcdc0f7eec374a515f4608b141c62a0fb6949ad8425fb80b/PyMuPDF-1.18.13-cp37-cp37m-manylinux2010_x86_64.whl (6.4MB)\n",
            "\u001b[K     |████████████████████████████████| 6.4MB 6.6MB/s \n",
            "\u001b[?25hInstalling collected packages: pymupdf\n",
            "Successfully installed pymupdf-1.18.13\n"
          ],
          "name": "stdout"
        }
      ]
    },
    {
      "cell_type": "code",
      "metadata": {
        "colab": {
          "base_uri": "https://localhost:8080/"
        },
        "id": "7Ab9EffkxLa8",
        "outputId": "3d6623fc-1a01-4aac-9100-b7d7ce44554f"
      },
      "source": [
        "!unzip pdfs.zip"
      ],
      "execution_count": 2,
      "outputs": [
        {
          "output_type": "stream",
          "text": [
            "Archive:  pdfs.zip\n",
            "  inflating: 26032A00200143.pdf      \n",
            "  inflating: 26032A00200144.pdf      \n",
            "  inflating: 26032A00200145.pdf      \n",
            "  inflating: 26032A00200146.pdf      \n",
            "  inflating: 26032A00200199.pdf      \n",
            "  inflating: 26032A00200200.pdf      \n"
          ],
          "name": "stdout"
        }
      ]
    },
    {
      "cell_type": "code",
      "metadata": {
        "id": "NbJhYZmm7nvK"
      },
      "source": [
        "import os\n",
        "os.remove('pdfs/pdfs.zip')\n"
      ],
      "execution_count": 6,
      "outputs": []
    },
    {
      "cell_type": "code",
      "metadata": {
        "id": "6m7cIrVR9eLA",
        "outputId": "078f284f-895f-4262-ed50-8b33db6c039d",
        "colab": {
          "base_uri": "https://localhost:8080/"
        }
      },
      "source": [
        "contenido = os.listdir('pdfs')\n",
        "contenido"
      ],
      "execution_count": 12,
      "outputs": [
        {
          "output_type": "execute_result",
          "data": {
            "text/plain": [
              "['.config',\n",
              " '26032A00200144.pdf',\n",
              " '26032A00200199.pdf',\n",
              " '26032A00200145.pdf',\n",
              " '26032A00200200.pdf',\n",
              " 'pdfs',\n",
              " '26032A00200146.pdf',\n",
              " '.ipynb_checkpoints']"
            ]
          },
          "metadata": {
            "tags": []
          },
          "execution_count": 12
        }
      ]
    },
    {
      "cell_type": "code",
      "metadata": {
        "id": "XyUB79eh3QPR"
      },
      "source": [
        "import fitz"
      ],
      "execution_count": null,
      "outputs": []
    },
    {
      "cell_type": "code",
      "metadata": {
        "id": "RFfUqAgTzWSX"
      },
      "source": [
        " # Abra el archivo PDF y genere un objeto\n",
        "doc = fitz.open('26032A00200001.pdf')\n",
        "\n",
        "for pg in range(doc.pageCount):\n",
        "    page = doc[pg]\n",
        "    rotate = int(0)\n",
        "         # El factor de escala para cada tamaño es 2, lo que generará una imagen con cuatro veces la resolución para nosotros.\n",
        "    zoom_x = 1.0\n",
        "    zoom_y = 1.0\n",
        "    trans = fitz.Matrix(zoom_x, zoom_y).preRotate(rotate)\n",
        "    pm = page.getPixmap(matrix=trans, alpha=False)\n",
        "    name = doc.name+\"_\"+str(pg)+\".png\"\n",
        "    pm.writePNG(name)\n",
        "    \n"
      ],
      "execution_count": null,
      "outputs": []
    }
  ]
}