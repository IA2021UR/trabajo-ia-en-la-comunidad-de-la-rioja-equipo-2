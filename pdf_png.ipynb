{
  "nbformat": 4,
  "nbformat_minor": 0,
  "metadata": {
    "colab": {
      "name": "Untitled1.ipynb",
      "provenance": [],
      "authorship_tag": "ABX9TyMQZ1s7ue5GCi9Xs4Ol1lc3",
      "include_colab_link": true
    },
    "kernelspec": {
      "name": "python3",
      "display_name": "Python 3"
    },
    "language_info": {
      "name": "python"
    }
  },
  "cells": [
    {
      "cell_type": "markdown",
      "metadata": {
        "id": "view-in-github",
        "colab_type": "text"
      },
      "source": [
        "<a href=\"https://colab.research.google.com/github/IA2021UR/trabajo-ia-en-la-comunidad-de-la-rioja-equipo-2/blob/main/pdf_png.ipynb\" target=\"_parent\"><img src=\"https://colab.research.google.com/assets/colab-badge.svg\" alt=\"Open In Colab\"/></a>"
      ]
    },
    {
      "cell_type": "code",
      "metadata": {
        "colab": {
          "base_uri": "https://localhost:8080/"
        },
        "id": "7Ab9EffkxLa8",
        "outputId": "dbf95f70-9200-4982-913c-4cec56e20ba6"
      },
      "source": [
        "!unzip pdfs.zip"
      ],
      "execution_count": 1,
      "outputs": [
        {
          "output_type": "stream",
          "text": [
            "Archive:  pdfs.zip\n",
            "  inflating: 26032A00200001.pdf      \n",
            "  inflating: 26032A00200002.pdf      \n",
            "  inflating: 26032A00200003.pdf      \n",
            "  inflating: 26032A00200004.pdf      \n",
            "  inflating: 26032A00200005.pdf      \n",
            "  inflating: 26032A00200006.pdf      \n",
            "  inflating: 26032A00200007.pdf      \n",
            "  inflating: 26032A00200008.pdf      \n",
            "  inflating: 26032A00200009.pdf      \n",
            "  inflating: 26032A00200010.pdf      \n",
            "  inflating: 26032A00200011.pdf      \n",
            "  inflating: 26032A00200012.pdf      \n",
            "  inflating: 26032A00200013.pdf      \n",
            "  inflating: 26032A00200014.pdf      \n",
            "  inflating: 26032A00200015.pdf      \n",
            "  inflating: 26032A00200016.pdf      \n",
            "  inflating: 26032A00200017.pdf      \n",
            "  inflating: 26032A00200018.pdf      \n",
            "  inflating: 26032A00200019.pdf      \n",
            "  inflating: 26032A00200020.pdf      \n",
            "  inflating: 26032A00200021.pdf      \n",
            "  inflating: 26032A00200022.pdf      \n",
            "  inflating: 26032A00200023.pdf      \n",
            "  inflating: 26032A00200024.pdf      \n",
            "  inflating: 26032A00200025.pdf      \n",
            "  inflating: 26032A00200026.pdf      \n",
            "  inflating: 26032A00200027.pdf      \n",
            "  inflating: 26032A00200028.pdf      \n",
            "  inflating: 26032A00200029.pdf      \n",
            "  inflating: 26032A00200030.pdf      \n",
            "  inflating: 26032A00200031.pdf      \n",
            "  inflating: 26032A00200032.pdf      \n",
            "  inflating: 26032A00200033.pdf      \n",
            "  inflating: 26032A00200034.pdf      \n",
            "  inflating: 26032A00200035.pdf      \n",
            "  inflating: 26032A00200036.pdf      \n",
            "  inflating: 26032A00200037.pdf      \n",
            "  inflating: 26032A00200038.pdf      \n",
            "  inflating: 26032A00200039.pdf      \n",
            "  inflating: 26032A00200040.pdf      \n",
            "  inflating: 26032A00200041.pdf      \n",
            "  inflating: 26032A00200042.pdf      \n",
            "  inflating: 26032A00200043.pdf      \n",
            "  inflating: 26032A00200044.pdf      \n",
            "  inflating: 26032A00200045.pdf      \n",
            "  inflating: 26032A00200046.pdf      \n",
            "  inflating: 26032A00200047.pdf      \n",
            "  inflating: 26032A00200048.pdf      \n",
            "  inflating: 26032A00200049.pdf      \n",
            "  inflating: 26032A00200050.pdf      \n",
            "  inflating: 26032A00200051.pdf      \n"
          ],
          "name": "stdout"
        }
      ]
    },
    {
      "cell_type": "code",
      "metadata": {
        "colab": {
          "base_uri": "https://localhost:8080/"
        },
        "id": "ZULdgvxdzQd9",
        "outputId": "3551ada6-afb9-4042-f10c-24ee2538407d"
      },
      "source": [
        "!pip install pymupdf"
      ],
      "execution_count": 14,
      "outputs": [
        {
          "output_type": "stream",
          "text": [
            "Collecting pymupdf\n",
            "\u001b[?25l  Downloading https://files.pythonhosted.org/packages/bf/e8/bfd971ed4515fcdc0f7eec374a515f4608b141c62a0fb6949ad8425fb80b/PyMuPDF-1.18.13-cp37-cp37m-manylinux2010_x86_64.whl (6.4MB)\n",
            "\u001b[K     |████████████████████████████████| 6.4MB 27.6MB/s \n",
            "\u001b[?25hInstalling collected packages: pymupdf\n",
            "Successfully installed pymupdf-1.18.13\n"
          ],
          "name": "stdout"
        }
      ]
    },
    {
      "cell_type": "code",
      "metadata": {
        "id": "XyUB79eh3QPR"
      },
      "source": [
        "import fitz"
      ],
      "execution_count": null,
      "outputs": []
    },
    {
      "cell_type": "code",
      "metadata": {
        "id": "RFfUqAgTzWSX"
      },
      "source": [
        " # Abra el archivo PDF y genere un objeto\n",
        "doc = fitz.open('26032A00200001.pdf')\n",
        "\n",
        "for pg in range(doc.pageCount):\n",
        "    page = doc[pg]\n",
        "    rotate = int(0)\n",
        "         # El factor de escala para cada tamaño es 2, lo que generará una imagen con cuatro veces la resolución para nosotros.\n",
        "    zoom_x = 1.0\n",
        "    zoom_y = 1.0\n",
        "    trans = fitz.Matrix(zoom_x, zoom_y).preRotate(rotate)\n",
        "    pm = page.getPixmap(matrix=trans, alpha=False)\n",
        "    name = doc.name+\"_\"+str(pg)+\".png\"\n",
        "    pm.writePNG(name)\n",
        "    \n"
      ],
      "execution_count": 23,
      "outputs": []
    }
  ]
}