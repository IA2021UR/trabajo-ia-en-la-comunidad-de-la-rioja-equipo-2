{
  "nbformat": 4,
  "nbformat_minor": 0,
  "metadata": {
    "colab": {
      "name": "Untitled1.ipynb",
      "provenance": [],
      "authorship_tag": "ABX9TyNVVtYVYQ+Lw23tFGO5nShJ",
      "include_colab_link": true
    },
    "kernelspec": {
      "name": "python3",
      "display_name": "Python 3"
    },
    "language_info": {
      "name": "python"
    }
  },
  "cells": [
    {
      "cell_type": "markdown",
      "metadata": {
        "id": "view-in-github",
        "colab_type": "text"
      },
      "source": [
        "<a href=\"https://colab.research.google.com/github/IA2021UR/trabajo-ia-en-la-comunidad-de-la-rioja-equipo-2/blob/main/pdf_png.ipynb\" target=\"_parent\"><img src=\"https://colab.research.google.com/assets/colab-badge.svg\" alt=\"Open In Colab\"/></a>"
      ]
    },
    {
      "cell_type": "code",
      "metadata": {
        "colab": {
          "base_uri": "https://localhost:8080/"
        },
        "id": "ZULdgvxdzQd9",
        "outputId": "60c96a7e-e5ab-41e1-bae4-39653cc104a4"
      },
      "source": [
        "!pip install pymupdf #Para el conversor\n",
        "import fitz          #Para el conversor "
      ],
      "execution_count": null,
      "outputs": [
        {
          "output_type": "stream",
          "text": [
            "Collecting pymupdf\n",
            "\u001b[?25l  Downloading https://files.pythonhosted.org/packages/bf/e8/bfd971ed4515fcdc0f7eec374a515f4608b141c62a0fb6949ad8425fb80b/PyMuPDF-1.18.13-cp37-cp37m-manylinux2010_x86_64.whl (6.4MB)\n",
            "\u001b[K     |████████████████████████████████| 6.4MB 6.6MB/s \n",
            "\u001b[?25hInstalling collected packages: pymupdf\n",
            "Successfully installed pymupdf-1.18.13\n"
          ],
          "name": "stdout"
        }
      ]
    },
    {
      "cell_type": "code",
      "metadata": {
        "colab": {
          "base_uri": "https://localhost:8080/"
        },
        "id": "7Ab9EffkxLa8",
        "outputId": "f85b3885-c6a3-41e2-e535-b097aaf125b4"
      },
      "source": [
        "!unzip pdfs.zip -d PDFS\n",
        "contenido = os.listdir('PDFS')\n",
        "os.mkdir('PNGS')"
      ],
      "execution_count": 13,
      "outputs": [
        {
          "output_type": "stream",
          "text": [
            "Archive:  pdfs.zip\n",
            "  inflating: PDFS/26032A00200143.pdf  \n",
            "  inflating: PDFS/26032A00200144.pdf  \n",
            "  inflating: PDFS/26032A00200145.pdf  \n",
            "  inflating: PDFS/26032A00200146.pdf  \n",
            "  inflating: PDFS/26032A00200199.pdf  \n",
            "  inflating: PDFS/26032A00200200.pdf  \n"
          ],
          "name": "stdout"
        }
      ]
    },
    {
      "cell_type": "code",
      "metadata": {
        "id": "6m7cIrVR9eLA",
        "colab": {
          "base_uri": "https://localhost:8080/"
        },
        "outputId": "b9eaac16-2d46-4c72-c7da-f41a7876d707"
      },
      "source": [
        "#Función conversora\n",
        "def pdf_a_png(nombreFichero, pathOrigen, pathDestino):\n",
        "  doc = fitz.open(pathOrigen+nombreFichero)\n",
        "\n",
        "  for pg in range(doc.pageCount):\n",
        "        page = doc[pg]\n",
        "        rotate = int(0)\n",
        "            # El factor de escala para cada tamaño es 2, lo que generará una imagen con cuatro veces la resolución para nosotros.\n",
        "        zoom_x = 2.0\n",
        "        zoom_y = 2.0\n",
        "        trans = fitz.Matrix(zoom_x, zoom_y).preRotate(rotate)\n",
        "        pm = page.getPixmap(matrix=trans, alpha=False)\n",
        "        name = nombreFichero+\"_\"+str(pg)+\".png\"\n",
        "        pm.writePNG(pathDestino+name)\n"
      ],
      "execution_count": 14,
      "outputs": [
        {
          "output_type": "execute_result",
          "data": {
            "text/plain": [
              "['26032A00200144.pdf',\n",
              " '26032A00200199.pdf',\n",
              " '26032A00200145.pdf',\n",
              " '26032A00200200.pdf',\n",
              " '26032A00200146.pdf',\n",
              " '26032A00200143.pdf']"
            ]
          },
          "metadata": {
            "tags": []
          },
          "execution_count": 14
        }
      ]
    },
    {
      "cell_type": "code",
      "metadata": {
        "id": "Kn52YbrZASHu"
      },
      "source": [
        "for x in contenido:\n",
        "  pdf_a_png(x,'PDFS/','PNGS/')"
      ],
      "execution_count": 22,
      "outputs": []
    },
    {
      "cell_type": "code",
      "metadata": {
        "id": "XyUB79eh3QPR"
      },
      "source": [
        "def mostrarImagen(image):\n",
        "    if len(image.shape)==3:\n",
        "        img2 = image[:,:,::-1]\n",
        "        plt.imshow(img2)\n",
        "        plt.show()\n",
        "    else:\n",
        "        img2 = image\n",
        "        plt.imshow(img2,cmap='gray')\n",
        "        plt.show()"
      ],
      "execution_count": 24,
      "outputs": []
    },
    {
      "cell_type": "code",
      "metadata": {
        "id": "RFfUqAgTzWSX"
      },
      "source": [
        "mostrarImagen('PNGS//content/PNGS/26032A00200143.pdf_0.png')\n",
        "\n",
        "    \n"
      ],
      "execution_count": 23,
      "outputs": []
    }
  ]
}