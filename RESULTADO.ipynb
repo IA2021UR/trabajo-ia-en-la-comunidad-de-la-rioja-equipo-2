{
  "nbformat": 4,
  "nbformat_minor": 0,
  "metadata": {
    "colab": {
      "name": "RESULTADO.ipynb",
      "provenance": [],
      "toc_visible": true,
      "authorship_tag": "ABX9TyNOpLjMCNBYciiszIRnXtNz",
      "include_colab_link": true
    },
    "kernelspec": {
      "name": "python3",
      "display_name": "Python 3"
    },
    "language_info": {
      "name": "python"
    }
  },
  "cells": [
    {
      "cell_type": "markdown",
      "metadata": {
        "id": "view-in-github",
        "colab_type": "text"
      },
      "source": [
        "<a href=\"https://colab.research.google.com/github/IA2021UR/trabajo-ia-en-la-comunidad-de-la-rioja-equipo-2/blob/main/RESULTADO.ipynb\" target=\"_parent\"><img src=\"https://colab.research.google.com/assets/colab-badge.svg\" alt=\"Open In Colab\"/></a>"
      ]
    },
    {
      "cell_type": "markdown",
      "metadata": {
        "id": "G3MyYHuKfv0m"
      },
      "source": [
        "#Trabajo IA en la comunidad de La Rioja, equipo 2\n",
        "Dataset: https://unirioja-my.sharepoint.com/:u:/g/personal/joheras_unirioja_es/EbmPj-gacuJMrllR3FsP1IcBSvAh5dDfD7VdZQDkyWjMNA?e=qAKxPT "
      ]
    },
    {
      "cell_type": "markdown",
      "metadata": {
        "id": "DKCBeYXAgTUo"
      },
      "source": [
        "##Librerías utilizadas\n"
      ]
    },
    {
      "cell_type": "code",
      "metadata": {
        "colab": {
          "base_uri": "https://localhost:8080/"
        },
        "id": "AUcAW23bgSop",
        "outputId": "251f079f-05f3-4df1-e801-a7646e9f213a"
      },
      "source": [
        "!pip install pymupdf             #Para el conversor de PDF a Imagen\n",
        "import fitz                      #Para el conversor de PDF a Imagen\n",
        "import cv2                       #Para tratamiento de imagenes\n",
        "import matplotlib.pyplot as plt  #Para mostrar las imagenes\n"
      ],
      "execution_count": 1,
      "outputs": [
        {
          "output_type": "stream",
          "text": [
            "Collecting pymupdf\n",
            "\u001b[?25l  Downloading https://files.pythonhosted.org/packages/bf/e8/bfd971ed4515fcdc0f7eec374a515f4608b141c62a0fb6949ad8425fb80b/PyMuPDF-1.18.13-cp37-cp37m-manylinux2010_x86_64.whl (6.4MB)\n",
            "\u001b[K     |████████████████████████████████| 6.4MB 6.8MB/s \n",
            "\u001b[?25hInstalling collected packages: pymupdf\n",
            "Successfully installed pymupdf-1.18.13\n"
          ],
          "name": "stdout"
        }
      ]
    },
    {
      "cell_type": "markdown",
      "metadata": {
        "id": "WI1WbcTKgotg"
      },
      "source": [
        "##Conversor de PDF a Imagen"
      ]
    },
    {
      "cell_type": "code",
      "metadata": {
        "id": "4p00HUd3fnFF"
      },
      "source": [
        "#La función recibe tres strings, convierte el fichero x.pdf en dos imágenes x_0.png y x_1.png (Una por cada página)\n",
        "def conversorPDF_PNG(nombreFichero, pathOrigen, pathDestino):\n",
        "  doc = fitz.open(pathOrigen+nombreFichero)\n",
        "  for pg in range(doc.pageCount):\n",
        "        page = doc[pg]\n",
        "        rotate = int(0)\n",
        "            # El factor de escala para cada tamaño es 2, lo que generará una imagen con cuatro veces la resolución para nosotros.\n",
        "        zoom_x = 2.0\n",
        "        zoom_y = 2.0\n",
        "        trans = fitz.Matrix(zoom_x, zoom_y).preRotate(rotate)\n",
        "        pm = page.getPixmap(matrix=trans, alpha=False)\n",
        "        nombreFichero=nombreFichero.split('.')[0]\n",
        "        name = nombreFichero+\"_\"+str(pg)+\".png\"\n",
        "        pm.writePNG(pathDestino+name)\n"
      ],
      "execution_count": 5,
      "outputs": []
    },
    {
      "cell_type": "markdown",
      "metadata": {
        "id": "baEI0q6DkBRn"
      },
      "source": [
        "##Función para alinear imágenes"
      ]
    },
    {
      "cell_type": "code",
      "metadata": {
        "id": "pyIFc0YfkA6C"
      },
      "source": [
        "def alinea_imagenes(imagen1,template,maxFeatures=500,keepPercent=0.2,debug=False):\n",
        "  imageGray=cv2.cvtColor(image,cv2.COLOR_BGR2GRAY)\n",
        "  templateGray = cv2.cvtColor(template, cv2.COLOR_BGR2GRAY)\n",
        "\n",
        "  orb=cv2.ORB_create(maxFeatures)\n",
        "  (kpsA,descsA)=orb.detectAndCompute(imageGray,None)\n",
        "  (kpsB,descsB)=orb.detectAndCompute(templateGray,None)\n",
        "\n",
        "  method = cv2.DESCRIPTOR_MATCHER_BRUTEFORCE_HAMMING\n",
        "  matcher = cv2.DescriptorMatcher_create(method)\n",
        "  matches = matcher.match(descsA, descsB, None)\n",
        "\n",
        "  matches = sorted(matches, key=lambda x:x.distance)\n",
        "  keep = int(len(matches) * keepPercent)\n",
        "  matches = matches[:keep]\n",
        "\n",
        "  if debug:\n",
        "    matchedVis=cv2.drawMatches(image,kpsA,template,kpsB,matches,None)\n",
        "    matchedVis= imutils.resize(matchedVis,width=1000)\n",
        "    cv2.waitKey(0)\n",
        "\n",
        "  ptsA=np.zeros((len(matches),2),dtype=\"float\")\n",
        "  ptsB=np.zeros((len(matches),2),dtype=\"float\")\n",
        "\n",
        "  for(i,m) in enumerate(matches):\n",
        "    ptsA[i]=kpsA[m.queryIdx].pt\n",
        "    ptsB[i]=kpsA[m.trainIdx].pt\n",
        "\n",
        "  (H,mask)=cv2.findHomography(ptsA,ptsB,method=cv2.RANSAC)\n",
        "\n",
        "  (h,w)=template.shape[:2]\n",
        "  aligned=cv2.warpPerspective(image,H,(w,h))\n",
        "\n",
        "  return aligned"
      ],
      "execution_count": null,
      "outputs": []
    },
    {
      "cell_type": "markdown",
      "metadata": {
        "id": "Ohosu_u-jF7H"
      },
      "source": [
        "##Instrucciones\n"
      ]
    },
    {
      "cell_type": "code",
      "metadata": {
        "id": "TdgES9pZjO_r"
      },
      "source": [
        "conversorPDF_PNG('fichero.pdf','','')\n",
        "conversorPDF_PNG('plantilla.pdf','','')"
      ],
      "execution_count": 7,
      "outputs": []
    },
    {
      "cell_type": "code",
      "metadata": {
        "id": "dYvzEdxRkcUo"
      },
      "source": [
        "fichero1=cv2.imread(\"fichero_0.png\")\n",
        "fichero2=cv2.imread(\"fichero_1.png\")\n",
        "\n",
        "plantilla1=cv2.imread(\"plantilla_0.png\")\n",
        "plantilla2=cv2.imread(\"plantilla_1.png\")"
      ],
      "execution_count": 8,
      "outputs": []
    }
  ]
}